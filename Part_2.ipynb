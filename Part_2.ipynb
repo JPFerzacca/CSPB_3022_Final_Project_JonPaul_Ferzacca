{
 "cells": [
  {
   "cell_type": "markdown",
   "id": "57301829-7103-4a82-9206-fa768a6dc912",
   "metadata": {},
   "source": [
    "## Predicting Income Bracket with UCI Adult Dataset\n",
    "JonPaul Ferzacca\n",
    "\n",
    "Introduction to Data Science\n",
    "\n",
    "Professor Sepideh Goodarzy"
   ]
  },
  {
   "cell_type": "markdown",
   "id": "9c9f6eb9-d79c-4034-856e-bfc3faea16f5",
   "metadata": {},
   "source": [
    "## Project Overview\n",
    "The objective of this project revolves around leveraging data to make meaningful predictions about income levels. The specific task at hand is to predict whether an individual makes over 50K a year based on a variety of demographic factors. These factors range from age and workclass to education and marital status, among others.\n",
    "\n",
    "This problem is fundamentally a binary classification task. Classification is a subcategory of supervised learning where the aim is to predict the categorical class labels of new instances, based on past observations. In this case, the classes are binary - either an individual earns more than 50K a year or they do not.\n",
    "\n",
    "The motivation behind this project lies in its potential real-world implications. Accurate income predictions can be immensely beneficial to a variety of sectors. For instance, financial institutions can utilize these predictions to determine credit-worthiness or loan eligibility. Similarly, businesses can better understand their customers, allowing for more effective targeting and segmentation. In a societal context, this kind of model can also help policymakers in understanding the dynamics of income distribution and formulating data-driven policies.\n",
    "\n",
    "Ultimately, our goal is to develop a robust and accurate model that can effectively classify individuals based on their income level, thereby providing a tool that can aid in a variety of economic and social applications. \n",
    "\n",
    "The data for this project has been sourced from the UCI Machine Learning Repository's Adult Dataset. (https://archive.ics.uci.edu/dataset/2/adult)"
   ]
  },
  {
   "cell_type": "markdown",
   "id": "c326260e-50d1-4804-8f67-e063e20b552a",
   "metadata": {},
   "source": [
    "**Programming Tools**"
   ]
  },
  {
   "cell_type": "code",
   "execution_count": 1,
   "id": "ad4ad522-24e9-42fe-b409-c10dec403155",
   "metadata": {},
   "outputs": [],
   "source": [
    "import numpy as np\n",
    "import matplotlib.pyplot as plt\n",
    "import seaborn as sns"
   ]
  },
  {
   "cell_type": "markdown",
   "id": "2c1a7d12-8123-4144-a1f5-b205e9417c8d",
   "metadata": {},
   "source": [
    "## Data Overview\n",
    "The dataset for this project is derived from the 1994 Census database, meticulously extracted by Barry Becker. Becker's extraction procedure followed a well-defined set of criteria to ensure the selection of clean and relevant data records. Specifically, individuals included in the dataset were required to be above 16 years of age (AAGE > 16), have an adjusted gross income exceeding 100 (AGI > 100), have a final record weight of more than 1 (AFNLWGT > 1), and work more than 0 hours per week (HRSWK > 0).\n",
    "\n",
    "\n",
    "**Key features include:**"
   ]
  },
  {
   "cell_type": "markdown",
   "id": "31ad5911-fe67-4340-95e9-710bf9ff0169",
   "metadata": {},
   "source": [
    "**Age:** This is a continuous variable representing the age of the individual.\n",
    "\n",
    "**Workclass:** This categorical variable represents the employment type of the individual and includes categories such as Private, Self-Employed (Not Incorporated), Self-Employed (Incorporated), Federal Government, Local Government, State Government, Without Pay, and Never Worked.\n",
    "\n",
    "**FNLWGT:** This is a continuous variable.\n",
    "\n",
    "**Education:** This categorical variable represents the highest level of education attained by an individual. Categories include Bachelors, Some College, 11th Grade, High School Graduate, Professional School, Associate Degree (Academic), Associate Degree (Vocational), 9th Grade, 7th-8th Grade, 12th Grade, Masters, 1st-4th Grade, 10th Grade, Doctorate, 5th-6th Grade, and Preschool.\n",
    "\n",
    "**Education-num:** This is a continuous variable representing the number of educational years completed.\n",
    "\n",
    "**Marital-status:** This categorical variable represents the marital status of the individual. Categories include Married Civilian Spouse, Divorced, Never Married, Separated, Widowed, Married Spouse Absent, and Married AF Spouse.\n",
    "\n",
    "**Occupation:** This categorical variable represents the individual's occupation and includes categories such as Tech Support, Craft Repair, Other Service, Sales, Executive Managerial, Professional Specialty, Handlers Cleaners, Machine Operator Inspector, Administrative Clerical, Farming Fishing, Transport Moving, Private House Service, Protective Service, and Armed Forces.\n",
    "\n",
    "**Relationship:** This categorical variable represents the individual's role in the family. Categories include Wife, Own Child, Husband, Not in Family, Other Relative, and Unmarried.\n",
    "\n",
    "**Race:** This categorical variable represents the individual's race. Categories include White, Asian-Pacific Islander, American Indian-Eskimo, Other, and Black.\n",
    "\n",
    "**Sex:** This categorical variable represents the individual's sex and includes categories Female and Male.\n",
    "\n",
    "**Capital-gain:** This is a continuous variable representing the individual's capital gains.\n",
    "\n",
    "**Capital-loss:** This is a continuous variable representing the individual's capital losses.\n",
    "\n",
    "**Hours-per-week:** This is a continuous variable representing the number of hours the individual works per week.\n",
    "\n",
    "**Native-country:** This categorical variable represents the individual's country of origin. It includes United States, Cambodia, England, Puerto Rico, Canada, Germany, Outlying US (Guam-USVI-etc), India, Japan, Greece, South, China, Cuba, Iran, Honduras, Philippines, Italy, Poland, Jamaica, Vietnam, Mexico, Portugal, Ireland, France, Dominican Republic, Laos, Ecuador, Taiwan, Haiti, Colombia, Hungary, Guatemala, Nicaragua, Scotland, Thailand, Yugoslavia, El Salvador, Trinidad & Tobago, Peru, Hong Kong, and the Netherlands."
   ]
  },
  {
   "cell_type": "markdown",
   "id": "89b5f8da-03e3-4e87-b995-e4635080c086",
   "metadata": {},
   "source": [
    "The target variable is also categorical, representing whether or not an individual earns over 50K a year.\n",
    "\n",
    "The data is housed in a single table, sourced from a singular, unified dataset without need for combining from multiple sources. It should be noted that all data points were collected and processed in a manner adhering to strict quality control measures, ensuring a high degree of accuracy and reliability for subsequent analytical and modeling efforts.\n",
    "\n",
    "**Reference:**\n",
    "Becker, B. (1996). 1994 Census database. Retrieved from https://archive.ics.uci.edu/ml/datasets/adult\n",
    "\n",
    "The data in this set is tabular, with each row representing an individual record and each column representing a specific attribute or feature of the individual. The dataset includes 32,561 samples (or rows) and 15 features (or columns). The features are a mix of categorical and continuous variables."
   ]
  },
  {
   "cell_type": "code",
   "execution_count": 2,
   "id": "e418dee3-82de-4bc9-86da-3cf05d07598c",
   "metadata": {},
   "outputs": [
    {
     "name": "stdout",
     "output_type": "stream",
     "text": [
      "   age         workclass  fnlwgt  education  education-num  \\\n",
      "0   39         State-gov   77516  Bachelors             13   \n",
      "1   50  Self-emp-not-inc   83311  Bachelors             13   \n",
      "2   38           Private  215646    HS-grad              9   \n",
      "3   53           Private  234721       11th              7   \n",
      "4   28           Private  338409  Bachelors             13   \n",
      "\n",
      "       marital-status         occupation   relationship   race     sex  \\\n",
      "0       Never-married       Adm-clerical  Not-in-family  White    Male   \n",
      "1  Married-civ-spouse    Exec-managerial        Husband  White    Male   \n",
      "2            Divorced  Handlers-cleaners  Not-in-family  White    Male   \n",
      "3  Married-civ-spouse  Handlers-cleaners        Husband  Black    Male   \n",
      "4  Married-civ-spouse     Prof-specialty           Wife  Black  Female   \n",
      "\n",
      "   capital-gain  capital-loss  hours-per-week native-country income  \n",
      "0          2174             0              40  United-States  <=50K  \n",
      "1             0             0              13  United-States  <=50K  \n",
      "2             0             0              40  United-States  <=50K  \n",
      "3             0             0              40  United-States  <=50K  \n",
      "4             0             0              40           Cuba  <=50K  \n"
     ]
    }
   ],
   "source": [
    "# Read in adult.data\n",
    "import pandas as pd\n",
    "column_names = ['age', 'workclass', 'fnlwgt', 'education', 'education-num', 'marital-status', \n",
    "                'occupation', 'relationship', 'race', 'sex', 'capital-gain', 'capital-loss', \n",
    "                'hours-per-week', 'native-country', 'income']\n",
    "\n",
    "df = pd.read_csv('adult.data', names=column_names, sep=',\\s', na_values=[\"?\"], engine='python')\n",
    "\n",
    "\n",
    "\n",
    "# Print Example of Data\n",
    "print(df.head())  # prints the first 5 lines of the dataframe"
   ]
  },
  {
   "cell_type": "code",
   "execution_count": 3,
   "id": "23169ccf-7442-4ab7-9753-1d6e8a49d331",
   "metadata": {},
   "outputs": [
    {
     "name": "stdout",
     "output_type": "stream",
     "text": [
      "Total number of samples: 32561\n"
     ]
    }
   ],
   "source": [
    "print(f'Total number of samples: {df.shape[0]}')"
   ]
  },
  {
   "cell_type": "markdown",
   "id": "d8912176-8f41-47f7-a993-6088dab5541c",
   "metadata": {},
   "source": [
    "## Data Cleaning and EDA"
   ]
  },
  {
   "cell_type": "markdown",
   "id": "162d709a-f451-42ee-b8a9-6d6cc14b1e06",
   "metadata": {},
   "source": [
    "### Identify missing values:\n",
    "\n",
    "The data was loaded into a Pandas DataFrame, and any missing values were identified. The features 'workclass', 'occupation', and 'native-country' contained some missing values. Depending on the ideal result these missing values can be replaced with the most common value in each respective column. \n",
    "\n",
    "### Removing duplicates:\n",
    "\n",
    "The dataset was checked for duplicate entries, which can bias the analysis and machine learning models. Any duplicates found were removed from the DataFrame. "
   ]
  },
  {
   "cell_type": "code",
   "execution_count": 4,
   "id": "44419179-b4c3-40e8-bf4a-26047924ab15",
   "metadata": {},
   "outputs": [
    {
     "name": "stdout",
     "output_type": "stream",
     "text": [
      "age                  0\n",
      "workclass         1836\n",
      "fnlwgt               0\n",
      "education            0\n",
      "education-num        0\n",
      "marital-status       0\n",
      "occupation        1843\n",
      "relationship         0\n",
      "race                 0\n",
      "sex                  0\n",
      "capital-gain         0\n",
      "capital-loss         0\n",
      "hours-per-week       0\n",
      "native-country     583\n",
      "income               0\n",
      "dtype: int64\n"
     ]
    }
   ],
   "source": [
    "# Check for missing values:\n",
    "print(df.isnull().sum())\n",
    "\n",
    "# Remove Duplicates\n",
    "df = df.drop_duplicates()"
   ]
  },
  {
   "cell_type": "code",
   "execution_count": 5,
   "id": "69d14115-e979-4104-a2ae-95f51e84f228",
   "metadata": {},
   "outputs": [
    {
     "name": "stdout",
     "output_type": "stream",
     "text": [
      "Total number of samples: 32537\n"
     ]
    }
   ],
   "source": [
    "print(f'Total number of samples: {df.shape[0]}')"
   ]
  },
  {
   "cell_type": "markdown",
   "id": "d92336db-7b5c-4a7f-b346-3d2591b39352",
   "metadata": {
    "tags": []
   },
   "source": [
    "### Feature transformation: \n",
    "\n",
    "The 'income' and 'sex' columns were transformed from categorical to binary for easier analysis and modeling. This process, known as encoding, is often necessary for machine learning algorithms as they typically require numerical input."
   ]
  },
  {
   "cell_type": "code",
   "execution_count": 6,
   "id": "cbf68552-e674-4751-8dfe-3d8963a827ad",
   "metadata": {},
   "outputs": [
    {
     "name": "stdout",
     "output_type": "stream",
     "text": [
      "The count for income category 0 is: 24698\n",
      "The count for income category 1 is: 7839\n",
      "The count for sex category 0 is: 21775\n",
      "The count for sex category 1 is: 10762\n"
     ]
    }
   ],
   "source": [
    "# Convert the 'income' column to binary\n",
    "df['income'] = df['income'].map({'<=50K': 0, '>50K': 1})\n",
    "income_counts = dict(df['income'].value_counts())\n",
    "for income, count in income_counts.items():\n",
    "    print(f'The count for income category {income} is: {count}')\n",
    "\n",
    "df['sex'] = df['sex'].map({'Male': 0, 'Female': 1})\n",
    "\n",
    "sex_counts = dict(df['sex'].value_counts())\n",
    "for sex, count in sex_counts.items():\n",
    "    print(f'The count for sex category {sex} is: {count}')"
   ]
  },
  {
   "cell_type": "markdown",
   "id": "af283d09-8979-48da-8f86-00367e24fbd5",
   "metadata": {},
   "source": [
    " ### Check for Outliers:\n",
    "\n",
    "Lastly, the 'age' column was inspected for outliers, which are extreme values that can skew the analysis. The Interquartile Range (IQR) method was used to identify these outliers. The IQR is a measure of statistical dispersion and is calculated as the difference between the 75th and 25th percentiles. Any age that was below the first quartile minus 1.5 times the IQR or above the third quartile plus 1.5 times the IQR was considered an outlier. The number of outliers was then printed to the console. This step is critical as outliers can have a significant impact on the results of data analysis and statistical modeling."
   ]
  },
  {
   "cell_type": "code",
   "execution_count": 7,
   "id": "a1f066b6-2136-40b9-b493-b164f094fe88",
   "metadata": {},
   "outputs": [
    {
     "name": "stdout",
     "output_type": "stream",
     "text": [
      "Number of outliers in the age column: 142\n",
      "The dataframe now contains 32395 rows after removing outliers.\n"
     ]
    }
   ],
   "source": [
    "# Assuming 'age' column, we'll identify values that are higher than the 95th percentile\n",
    "# Calculate IQR of the 'age' column\n",
    "Q1 = df['age'].quantile(0.25)\n",
    "Q3 = df['age'].quantile(0.75)\n",
    "IQR = Q3 - Q1\n",
    "\n",
    "# Define the range for outliers\n",
    "lower_bound = Q1 - 1.5*IQR\n",
    "upper_bound = Q3 + 1.5*IQR\n",
    "\n",
    "# Count outliers\n",
    "outlier_age = df[(df['age'] < lower_bound) | (df['age'] > upper_bound)]\n",
    "print(f'Number of outliers in the age column: {len(outlier_age)}')\n",
    "\n",
    "\n",
    "# Remove outliers\n",
    "df = df[(df['age'] >= lower_bound) & (df['age'] <= upper_bound)]\n",
    "\n",
    "# Print the number of remaining rows in the dataframe\n",
    "print(f'The dataframe now contains {len(df)} rows after removing outliers.')"
   ]
  },
  {
   "cell_type": "code",
   "execution_count": 8,
   "id": "89caf425-33e9-43c3-94a2-a8b2f6fb9eaf",
   "metadata": {},
   "outputs": [
    {
     "name": "stdout",
     "output_type": "stream",
     "text": [
      "Number of outliers in the education-num column: 1172\n",
      "The dataframe now contains 31223 rows after removing outliers.\n"
     ]
    }
   ],
   "source": [
    "ed_Q1 = df['education-num'].quantile(0.25)\n",
    "ed_Q3 = df['education-num'].quantile(0.75)\n",
    "ed_IQR = ed_Q3 - ed_Q1\n",
    "\n",
    "# Define the range for outliers\n",
    "ed_lower_bound = ed_Q1 - 1.5*ed_IQR\n",
    "ed_upper_bound = ed_Q3 + 1.5*ed_IQR\n",
    "\n",
    "# Count outliers\n",
    "outliers_education = df[(df['education-num'] < ed_lower_bound) | (df['education-num'] > ed_upper_bound)]\n",
    "print(f'Number of outliers in the education-num column: {len(outliers_education)}')\n",
    "\n",
    "# Remove outliers\n",
    "df = df[(df['education-num'] >= ed_lower_bound) & (df['education-num'] <= ed_upper_bound)]\n",
    "\n",
    "# Print the number of remaining rows in the dataframe\n",
    "print(f'The dataframe now contains {len(df)} rows after removing outliers.')"
   ]
  },
  {
   "cell_type": "markdown",
   "id": "701252ee-d6d0-4ed5-a2cc-70e2e7f37c5d",
   "metadata": {},
   "source": [
    "Through these steps, a cleaner and more analysis-ready dataset was achieved. The cleaning process was tailored to the specific characteristics and needs of the Adult dataset, and the decisions made during cleaning were grounded in the pursuit of robust and valid analytical results. In subsequent parts of this project, further cleaning steps may be undertaken as necessary, and a more in-depth exploratory data analysis will be conducted."
   ]
  },
  {
   "cell_type": "markdown",
   "id": "5afbe819-83d7-401d-8aec-10aadca99fe6",
   "metadata": {},
   "source": [
    "### Data Cleaning: Omitting Non-essential Features\n",
    "\n",
    "In our dataset, some features like 'fnlwgt', 'capital-gain', and 'capital-loss' may not be meaningful for our analysis. 'fnlwgt' is a weight factor from the Current Population Survey (CPS) and may not be directly relevant. 'capital-gain' and 'capital-loss' introduce financial variability that may not aid in our income-focused study. A substantial number of these values are zero, providing limited information. Therefore, to focus our analysis, we are excluding these features from our dataset."
   ]
  },
  {
   "cell_type": "code",
   "execution_count": 9,
   "id": "a1654203-3b68-438e-a573-6a6fe449ea92",
   "metadata": {},
   "outputs": [],
   "source": [
    "df = df.drop(['capital-gain', 'capital-loss','fnlwgt'], axis=1)"
   ]
  },
  {
   "cell_type": "code",
   "execution_count": 10,
   "id": "5bbfe02b-00da-4417-a2e3-5d3b653643a1",
   "metadata": {},
   "outputs": [
    {
     "name": "stdout",
     "output_type": "stream",
     "text": [
      "Final Total Number of Samples After Cleaning: 31223\n"
     ]
    }
   ],
   "source": [
    "print(f'Final Total Number of Samples After Cleaning: {df.shape[0]}')"
   ]
  },
  {
   "cell_type": "markdown",
   "id": "1e770695-b699-4934-8e00-592b7de0aa1e",
   "metadata": {},
   "source": [
    "## Exploratory Data Analysis"
   ]
  },
  {
   "cell_type": "markdown",
   "id": "a84bc643-7ed9-4265-a142-accb3fc7487f",
   "metadata": {},
   "source": [
    "### Distribution of Ages Histogram"
   ]
  },
  {
   "cell_type": "code",
   "execution_count": 11,
   "id": "db36b411-be26-4b21-bd2d-fcd45452cef7",
   "metadata": {},
   "outputs": [
    {
     "data": {
      "image/png": "[encoded data removed]",
      "text/plain": [
       "<Figure size 640x480 with 1 Axes>"
      ]
     },
     "metadata": {},
     "output_type": "display_data"
    }
   ],
   "source": [
    "df['age'].hist(bins=30)\n",
    "plt.title('Age Distribution')\n",
    "plt.xlabel('Age')\n",
    "plt.ylabel('Frequency')\n",
    "plt.show()"
   ]
  },
  {
   "cell_type": "markdown",
   "id": "d02e52b4-2c2e-4e49-b7a3-b47378ebf290",
   "metadata": {},
   "source": [
    "This histogram displays the age distribution in the dataset. Most individuals are in their late 20s to early 40s, evident by the taller bars in this range. The distribution has a right-skew, indicating fewer older adults. No apparent gaps or anomalies suggest a consistent age data collection. Thus, the dataset primarily consists of younger to middle-aged adults with a smaller proportion of older adults. Although some of the data was removed to eliminate outliers this having a sample which is tighter in range can prove more effective as the sample is likley more individuals who are still working."
   ]
  },
  {
   "cell_type": "markdown",
   "id": "e7c07796-6249-451a-984b-ac683f258d36",
   "metadata": {},
   "source": [
    "### Income Distribution Bar Chart"
   ]
  },
  {
   "cell_type": "code",
   "execution_count": 12,
   "id": "ac4ba201-03f8-4ef9-bb10-7c0fd6bc31c0",
   "metadata": {},
   "outputs": [
    {
     "data": {
      "image/png": "[encoded data removed]",
      "text/plain": [
       "<Figure size 640x480 with 1 Axes>"
      ]
     },
     "metadata": {},
     "output_type": "display_data"
    }
   ],
   "source": [
    "df['income'].value_counts().plot(kind='bar')\n",
    "plt.title('Income Distribution')\n",
    "plt.xticks([0,1], ['<=50K', '>50K'], rotation=0) # Replaces numeric x-ticks with labels\n",
    "plt.xlabel('Income Category')\n",
    "plt.ylabel('Count')\n",
    "plt.show()"
   ]
  },
  {
   "cell_type": "markdown",
   "id": "251936bf-ecea-4afd-aefd-ca5ea00c2bce",
   "metadata": {},
   "source": [
    "The bar chart provides an overview of income distribution in our dataset. It visually represents the number of individuals in two income categories: earning less than or equal to 50K and earning more than 50K per year.\n",
    "\n",
    "From the height of the bars, it's apparent that the group earning less than or equal to 50K is substantially larger than the group earning more than 50K. This indicates a higher frequency of lower income individuals in the dataset, which is a crucial insight for our further analysis.\n",
    "\n",
    "The chart's title, 'Income Distribution', and the labels on the x-axis ('<=50K' and '>50K') make it clear what the graph represents. The y-axis, labeled as 'Count', quantifies the number of individuals in each income category.\n",
    "\n",
    "In summary, this visualization effectively highlights an income disparity within our dataset, with a larger proportion of individuals earning less than or equal to 50K per year"
   ]
  },
  {
   "cell_type": "markdown",
   "id": "91635cf0-fb1d-4743-9f99-39f6297dffd8",
   "metadata": {},
   "source": [
    "### Income distribution across Sex Bar Chart"
   ]
  },
  {
   "cell_type": "code",
   "execution_count": 13,
   "id": "01b541b7-6fa0-4783-88e7-18cb720148ac",
   "metadata": {},
   "outputs": [
    {
     "data": {
      "image/png": "[encoded data removed]",
      "text/plain": [
       "<Figure size 800x600 with 1 Axes>"
      ]
     },
     "metadata": {},
     "output_type": "display_data"
    }
   ],
   "source": [
    "plt.figure(figsize=(8, 6))\n",
    "sns.countplot(x='income', hue='sex', data=df)\n",
    "plt.xticks(ticks=[0, 1], labels=['<=50k', '>50k'])\n",
    "plt.xlabel('Income')\n",
    "plt.ylabel('Count')\n",
    "plt.title('Income distribution across Sex')\n",
    "plt.legend(title='Sex', labels=['Male', 'Female'])\n",
    "plt.show()"
   ]
  },
  {
   "cell_type": "markdown",
   "id": "0eaa2b25-8bdf-4be7-9d3b-6dacc3ff53f9",
   "metadata": {},
   "source": [
    "The bar chart shows the distribution of income across different sexes in our dataset. The chart is divided into two income categories, less than or equal to 50k and greater than 50k, and each of these is further broken down by sex, represented by different colors.\n",
    "\n",
    "Looking at the chart, it is evident that there are more males and females who earn less than or equal to 50k compared to those earning more than 50k. However, it is also noticeable that the number of males is significantly higher in both income categories compared to females.\n",
    "\n",
    "When we focus on the '>50k' category, the disparity between male and female earners is more pronounced, with males greatly outnumbering females. This could indicate a gender income gap in our dataset.\n",
    "\n",
    "The title 'Income distribution across Sex' effectively captures the key theme of the visualization. The x-axis, labeled 'Income', and y-axis, labeled 'Count', together with the legend differentiating 'Male' and 'Female', make the chart easily interpretable."
   ]
  },
  {
   "cell_type": "markdown",
   "id": "c96e9aed-be2e-40ea-b285-727edaf4e778",
   "metadata": {},
   "source": [
    "### Numeric Only Correlation Matrix"
   ]
  },
  {
   "cell_type": "code",
   "execution_count": 14,
   "id": "b79ab215-d3a3-4324-bc47-afb776d76256",
   "metadata": {},
   "outputs": [
    {
     "data": {
      "image/png": "[encoded data removed]",
      "text/plain": [
       "<Figure size 1100x900 with 2 Axes>"
      ]
     },
     "metadata": {},
     "output_type": "display_data"
    }
   ],
   "source": [
    "# Compute the correlation matrix\n",
    "corr = df.corr(numeric_only=True)\n",
    "\n",
    "# Generate a mask for the upper triangle\n",
    "mask = np.triu(np.ones_like(corr, dtype=bool))\n",
    "\n",
    "# Set up the matplotlib figure\n",
    "f, ax = plt.subplots(figsize=(11, 9))\n",
    "\n",
    "# Generate a custom diverging colormap\n",
    "cmap = sns.diverging_palette(230, 20, as_cmap=True)\n",
    "\n",
    "# Draw the heatmap with the mask and correct aspect ratio\n",
    "sns.heatmap(corr, mask=mask, cmap=cmap, vmax=.3, center=0,\n",
    "            square=True, linewidths=.5, cbar_kws={\"shrink\": .5})\n",
    "\n",
    "plt.show()"
   ]
  },
  {
   "cell_type": "markdown",
   "id": "dc9ecd2b-a9e7-46fc-a31a-2605aea6a8b1",
   "metadata": {},
   "source": [
    "The correlation matrix shown as a heatmap provides a visual representation of how each numeric variable in the dataset is related to the others. Each cell in the grid represents the correlation coefficient between two variables. The value ranges between -1 and 1, with -1 indicating a perfect negative correlation, 1 indicating a perfect positive correlation, and 0 suggesting no correlation.\n",
    "\n",
    "The colors of the cells reflect the strength and direction of the correlation: darker shades represent stronger correlations, with red indicating positive and blue indicating negative correlations. For instance, a darker red cell represents a strong positive correlation between the pair of variables corresponding to that cell.\n",
    "\n",
    "From a brief overview, there do not appear to be any strong correlations between most variables. However, there does appear to be some correlation that could prove useful. Education-num and Income has some significance. Sex corresponds to both income and hours-per-week with some relative signicance as well which is surprising and leaves room for more investigation. \n",
    "\n",
    "This heatmap provides an initial visual insight into potential relationships or lack thereof between the variables. It will be useful for feature selection and model building in subsequent stages of analysis."
   ]
  },
  {
   "cell_type": "markdown",
   "id": "7c959a07-401d-445b-b10c-1a39ebd971d4",
   "metadata": {},
   "source": [
    "## Models and Approach"
   ]
  },
  {
   "cell_type": "markdown",
   "id": "1b6a8fad-ea42-4391-82c4-43e3b4790fbb",
   "metadata": {},
   "source": [
    "### Logistic Regression:\n",
    "\n",
    "**Approach to Setting Up a Logistic Regression**\n",
    "\n",
    "Feature Selection: Logistic regression assumes that each predictor is independent of the others. For this data set, we can use methods like Recursive Feature Elimination to identify which features contribute the most to the outcome.\n",
    "\n",
    "Model Training: After preparing the data and selecting features, we can fit a logistic regression model to our training data. We'll use the binary 'income' column as our dependent variable, and the remaining columns as predictors.\n",
    "\n",
    "Evaluation: Next we will evaluate the model, using diffent scores to give us a rounded view of how the model is performing.\n",
    "\n",
    "**Positives of Logistic Regression**\n",
    "\n",
    "\n",
    "Efficiency: Logistic regression is less computationally intensive than more complex models like neural networks, making it a good choice for problems with a smaller number of observations or features. This helps with this data set as it is not extremely large.\n",
    "\n",
    "Doesn't require linear relationship: Unlike linear regression, logistic regression does not require a linear relationship between the dependent and independent variables. It can handle various types of relationships, because it applies a non-linear log transformation to the predicted odds ratio.\n",
    "\n",
    "**Negatives of Logistic Regression**\n",
    "\n",
    "Multicollinearity: Logistic regression can struggle with features that are highly correlated with each other. It might be necessary to identify and remove these features to avoid unstable estimates of the model coefficients. Although this doesn't seem like an issue based on the matrix correllation. \n",
    "\n",
    "Outliers: Logistic regression can be sensitive to outliers in the dataset. Therefore, data preprocessing may need to include outlier detection and mitigation. Some of the outliers have been removed but more may need to be cleaned\n"
   ]
  },
  {
   "cell_type": "markdown",
   "id": "6210acc1-c85b-4ba7-a74c-b518334c0ad2",
   "metadata": {},
   "source": [
    "### K-Nearest Neighbors (KNN) Model\n",
    "\n",
    "**Approach to Setting Up a K-Nearest Neighbors (KNN) Model:**\n",
    "\n",
    "Making Everything Numbers: The KNN model only understands numbers. So, we have to convert words or categories in our data into numbers. We also need to make sure all these numbers are on a similar scale, so no particular feature outweighs others just because of its numeric value.\n",
    "\n",
    "Picking Neighbors: The \"K\" in KNN stands for how many neighbors we are going to look at to make a decision. It's like asking how many friends' advice you need before making a decision. We'll use a method called cross-validation to help us pick the right number of friends (or \"neighbors\").\n",
    "\n",
    "Training Time: After doing these steps, we'll train the KNN model using our data.\n",
    "\n",
    "Checking our Work: We'll measure how good our model is using things like accuracy, precision, recall, and a few others.\n",
    "\n",
    "**Positives of KNN:**\n",
    "\n",
    "Flexible: KNN doesn't make assumptions about our data. It's like a friend who takes you as you are, making it adaptable to many situations.\n",
    "\n",
    "Easy to Understand: KNN is straightforward. It's like asking your closest friends for advice, then going with the most common suggestion.\n",
    "\n",
    "**Negatives of KNN:**\n",
    "\n",
    "Can be Slow: KNN can take a lot of time and computer power, especially with a lot of data. It's because KNN keeps all the advice it ever got and recalls it when making a new decision.\n",
    "\n",
    "Sensitive to Irrelevant Stuff: KNN might get confused if we give it a lot of unnecessary information. So, we need to be selective about what we tell it.\n",
    "\n",
    "Choosing the Right Friends: Picking the right number of neighbors to consult can be tricky. Ask too few, and you might get bad advice (overfitting). Ask too many, and the advice might be too generic to be useful (underfitting)."
   ]
  },
  {
   "cell_type": "markdown",
   "id": "9679ef25-79bb-4826-a874-fe4ac9683362",
   "metadata": {},
   "source": [
    "In conclusion, both Logistic Regression and K-Nearest Neighbors (KNN) have their strengths and weaknesses, and choosing between them will depend on the which which will be more accurate, the computational resources available, and the level of interpretability needed. It may be that both will be built and one is simply used as a comparison. "
   ]
  },
  {
   "cell_type": "code",
   "execution_count": null,
   "id": "a998904a-fae8-45d5-a5ed-4c4e5e0f2553",
   "metadata": {},
   "outputs": [],
   "source": []
  }
 ],
 "metadata": {
  "kernelspec": {
   "display_name": "Python 3 (ipykernel)",
   "language": "python",
   "name": "python3"
  },
  "language_info": {
   "codemirror_mode": {
    "name": "ipython",
    "version": 3
   },
   "file_extension": ".py",
   "mimetype": "text/x-python",
   "name": "python",
   "nbconvert_exporter": "python",
   "pygments_lexer": "ipython3",
   "version": "3.10.8"
  }
 },
 "nbformat": 4,
 "nbformat_minor": 5
}
