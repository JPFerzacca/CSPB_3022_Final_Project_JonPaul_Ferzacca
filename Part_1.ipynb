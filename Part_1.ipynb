{
 "cells": [
  {
   "cell_type": "markdown",
   "id": "57301829-7103-4a82-9206-fa768a6dc912",
   "metadata": {},
   "source": [
    "## Predicting Income Bracket with UCI Adult Dataset\n",
    "JonPaul Ferzacca\n",
    "\n",
    "Introduction to Data Science\n",
    "\n",
    "Professor Sepideh Goodarzy"
   ]
  },
  {
   "cell_type": "markdown",
   "id": "9c9f6eb9-d79c-4034-856e-bfc3faea16f5",
   "metadata": {},
   "source": [
    "## Project Overview\n",
    "The objective of this project revolves around leveraging data to make meaningful predictions about income levels. The specific task at hand is to predict whether an individual makes over 50K a year based on a variety of demographic factors. These factors range from age and workclass to education and marital status, among others.\n",
    "\n",
    "This problem is fundamentally a binary classification task. Classification is a subcategory of supervised learning where the aim is to predict the categorical class labels of new instances, based on past observations. In this case, the classes are binary - either an individual earns more than 50K a year or they do not.\n",
    "\n",
    "The motivation behind this project lies in its potential real-world implications. Accurate income predictions can be immensely beneficial to a variety of sectors. For instance, financial institutions can utilize these predictions to determine credit-worthiness or loan eligibility. Similarly, businesses can better understand their customers, allowing for more effective targeting and segmentation. In a societal context, this kind of model can also help policymakers in understanding the dynamics of income distribution and formulating data-driven policies.\n",
    "\n",
    "Ultimately, our goal is to develop a robust and accurate model that can effectively classify individuals based on their income level, thereby providing a tool that can aid in a variety of economic and social applications. \n",
    "\n",
    "The data for this project has been sourced from the UCI Machine Learning Repository's Adult Dataset. (https://archive.ics.uci.edu/dataset/2/adult)"
   ]
  },
  {
   "cell_type": "markdown",
   "id": "2c1a7d12-8123-4144-a1f5-b205e9417c8d",
   "metadata": {},
   "source": [
    "## Data Overview\n",
    "The dataset for this project is derived from the 1994 Census database, meticulously extracted by Barry Becker. Becker's extraction procedure followed a well-defined set of criteria to ensure the selection of clean and relevant data records. Specifically, individuals included in the dataset were required to be above 16 years of age (AAGE > 16), have an adjusted gross income exceeding 100 (AGI > 100), have a final record weight of more than 1 (AFNLWGT > 1), and work more than 0 hours per week (HRSWK > 0).\n",
    "\n",
    "\n",
    "**Key features include:**"
   ]
  },
  {
   "cell_type": "markdown",
   "id": "31ad5911-fe67-4340-95e9-710bf9ff0169",
   "metadata": {},
   "source": [
    "**Age:** This is a continuous variable representing the age of the individual.\n",
    "\n",
    "**Workclass:** This categorical variable represents the employment type of the individual and includes categories such as Private, Self-Employed (Not Incorporated), Self-Employed (Incorporated), Federal Government, Local Government, State Government, Without Pay, and Never Worked.\n",
    "\n",
    "**FNLWGT:** This is a continuous variable.\n",
    "\n",
    "**Education:** This categorical variable represents the highest level of education attained by an individual. Categories include Bachelors, Some College, 11th Grade, High School Graduate, Professional School, Associate Degree (Academic), Associate Degree (Vocational), 9th Grade, 7th-8th Grade, 12th Grade, Masters, 1st-4th Grade, 10th Grade, Doctorate, 5th-6th Grade, and Preschool.\n",
    "\n",
    "**Education-num:** This is a continuous variable representing the number of educational years completed.\n",
    "\n",
    "**Marital-status:** This categorical variable represents the marital status of the individual. Categories include Married Civilian Spouse, Divorced, Never Married, Separated, Widowed, Married Spouse Absent, and Married AF Spouse.\n",
    "\n",
    "**Occupation:** This categorical variable represents the individual's occupation and includes categories such as Tech Support, Craft Repair, Other Service, Sales, Executive Managerial, Professional Specialty, Handlers Cleaners, Machine Operator Inspector, Administrative Clerical, Farming Fishing, Transport Moving, Private House Service, Protective Service, and Armed Forces.\n",
    "\n",
    "**Relationship:** This categorical variable represents the individual's role in the family. Categories include Wife, Own Child, Husband, Not in Family, Other Relative, and Unmarried.\n",
    "\n",
    "**Race:** This categorical variable represents the individual's race. Categories include White, Asian-Pacific Islander, American Indian-Eskimo, Other, and Black.\n",
    "\n",
    "**Sex:** This categorical variable represents the individual's sex and includes categories Female and Male.\n",
    "\n",
    "**Capital-gain:** This is a continuous variable representing the individual's capital gains.\n",
    "\n",
    "**Capital-loss:** This is a continuous variable representing the individual's capital losses.\n",
    "\n",
    "**Hours-per-week:** This is a continuous variable representing the number of hours the individual works per week.\n",
    "\n",
    "**Native-country:** This categorical variable represents the individual's country of origin. It includes United States, Cambodia, England, Puerto Rico, Canada, Germany, Outlying US (Guam-USVI-etc), India, Japan, Greece, South, China, Cuba, Iran, Honduras, Philippines, Italy, Poland, Jamaica, Vietnam, Mexico, Portugal, Ireland, France, Dominican Republic, Laos, Ecuador, Taiwan, Haiti, Colombia, Hungary, Guatemala, Nicaragua, Scotland, Thailand, Yugoslavia, El Salvador, Trinidad & Tobago, Peru, Hong Kong, and the Netherlands."
   ]
  },
  {
   "cell_type": "markdown",
   "id": "89b5f8da-03e3-4e87-b995-e4635080c086",
   "metadata": {},
   "source": [
    "The target variable is also categorical, representing whether or not an individual earns over 50K a year.\n",
    "\n",
    "The data is housed in a single table, sourced from a singular, unified dataset without need for combining from multiple sources. It should be noted that all data points were collected and processed in a manner adhering to strict quality control measures, ensuring a high degree of accuracy and reliability for subsequent analytical and modeling efforts.\n",
    "\n",
    "**Reference:**\n",
    "Becker, B. (1996). 1994 Census database. Retrieved from https://archive.ics.uci.edu/ml/datasets/adult\n",
    "\n",
    "The data in this set is tabular, with each row representing an individual record and each column representing a specific attribute or feature of the individual. The dataset includes 32,561 samples (or rows) and 15 features (or columns). The features are a mix of categorical and continuous variables."
   ]
  },
  {
   "cell_type": "code",
   "execution_count": null,
   "id": "b11f502f-b2f5-4c0d-9d4d-5168d7e37b3a",
   "metadata": {},
   "outputs": [],
   "source": []
  },
  {
   "cell_type": "markdown",
   "id": "d8912176-8f41-47f7-a993-6088dab5541c",
   "metadata": {},
   "source": [
    "## Data Cleaning and EDA"
   ]
  },
  {
   "cell_type": "code",
   "execution_count": 21,
   "id": "be0f37bb-bc77-4b4e-ab3f-2655fb463229",
   "metadata": {},
   "outputs": [
    {
     "name": "stdout",
     "output_type": "stream",
     "text": [
      "   age         workclass  fnlwgt  education  education-num  \\\n",
      "0   39         State-gov   77516  Bachelors             13   \n",
      "1   50  Self-emp-not-inc   83311  Bachelors             13   \n",
      "2   38           Private  215646    HS-grad              9   \n",
      "3   53           Private  234721       11th              7   \n",
      "4   28           Private  338409  Bachelors             13   \n",
      "\n",
      "       marital-status         occupation   relationship   race     sex  \\\n",
      "0       Never-married       Adm-clerical  Not-in-family  White    Male   \n",
      "1  Married-civ-spouse    Exec-managerial        Husband  White    Male   \n",
      "2            Divorced  Handlers-cleaners  Not-in-family  White    Male   \n",
      "3  Married-civ-spouse  Handlers-cleaners        Husband  Black    Male   \n",
      "4  Married-civ-spouse     Prof-specialty           Wife  Black  Female   \n",
      "\n",
      "   capital-gain  capital-loss  hours-per-week native-country income  \n",
      "0          2174             0              40  United-States  <=50K  \n",
      "1             0             0              13  United-States  <=50K  \n",
      "2             0             0              40  United-States  <=50K  \n",
      "3             0             0              40  United-States  <=50K  \n",
      "4             0             0              40           Cuba  <=50K  \n"
     ]
    }
   ],
   "source": [
    "# Read in adult.data\n",
    "import pandas as pd\n",
    "column_names = ['age', 'workclass', 'fnlwgt', 'education', 'education-num', 'marital-status', \n",
    "                'occupation', 'relationship', 'race', 'sex', 'capital-gain', 'capital-loss', \n",
    "                'hours-per-week', 'native-country', 'income']\n",
    "\n",
    "df = pd.read_csv('adult.data', names=column_names, sep=',\\s', na_values=[\"?\"], engine='python')\n",
    "\n",
    "# Remove Duplicates\n",
    "df = df.drop_duplicates()\n",
    "\n",
    "# Print Example of Data\n",
    "print(df.head())  # prints the first 5 lines of the dataframe"
   ]
  },
  {
   "cell_type": "markdown",
   "id": "162d709a-f451-42ee-b8a9-6d6cc14b1e06",
   "metadata": {},
   "source": [
    "**Identify missing values:** The data was loaded into a Pandas DataFrame, and any missing values were identified. The features 'workclass', 'occupation', and 'native-country' contained some missing values. Depending on the ideal result these missing values can be replaced with the most common value in each respective column. \n",
    "\n",
    "**Removing duplicates:** The dataset was checked for duplicate entries, which can bias the analysis and machine learning models. Any duplicates found were removed from the DataFrame. "
   ]
  },
  {
   "cell_type": "code",
   "execution_count": 23,
   "id": "44419179-b4c3-40e8-bf4a-26047924ab15",
   "metadata": {},
   "outputs": [
    {
     "data": {
      "text/plain": [
       "age                  0\n",
       "workclass         1836\n",
       "fnlwgt               0\n",
       "education            0\n",
       "education-num        0\n",
       "marital-status       0\n",
       "occupation        1843\n",
       "relationship         0\n",
       "race                 0\n",
       "sex                  0\n",
       "capital-gain         0\n",
       "capital-loss         0\n",
       "hours-per-week       0\n",
       "native-country     582\n",
       "income               0\n",
       "dtype: int64"
      ]
     },
     "execution_count": 23,
     "metadata": {},
     "output_type": "execute_result"
    }
   ],
   "source": [
    "# Remove Duplicates\n",
    "df = df.drop_duplicates()\n",
    "\n",
    "# Check for missing values:\n",
    "df.isnull().sum()"
   ]
  },
  {
   "cell_type": "markdown",
   "id": "d92336db-7b5c-4a7f-b346-3d2591b39352",
   "metadata": {
    "tags": []
   },
   "source": [
    "**Feature transformation:** The 'income' column was transformed from categorical to binary for easier analysis and modeling. This process, known as encoding, is often necessary for machine learning algorithms as they typically require numerical input."
   ]
  },
  {
   "cell_type": "code",
   "execution_count": 4,
   "id": "cbf68552-e674-4751-8dfe-3d8963a827ad",
   "metadata": {},
   "outputs": [],
   "source": [
    "# Convert the 'income' column to binary\n",
    "df['income'] = df['income'].map({'<=50K': 0, '>50K': 1})"
   ]
  },
  {
   "cell_type": "markdown",
   "id": "af283d09-8979-48da-8f86-00367e24fbd5",
   "metadata": {},
   "source": [
    "**Check for Outliers**: Lastly, the 'age' column was inspected for outliers, which are extreme values that can skew the analysis. The Interquartile Range (IQR) method was used to identify these outliers. The IQR is a measure of statistical dispersion and is calculated as the difference between the 75th and 25th percentiles. Any age that was below the first quartile minus 1.5 times the IQR or above the third quartile plus 1.5 times the IQR was considered an outlier. The number of outliers was then printed to the console. This step is critical as outliers can have a significant impact on the results of data analysis and statistical modeling."
   ]
  },
  {
   "cell_type": "code",
   "execution_count": 17,
   "id": "a1f066b6-2136-40b9-b493-b164f094fe88",
   "metadata": {},
   "outputs": [
    {
     "name": "stdout",
     "output_type": "stream",
     "text": [
      "Number of outliers in the age column: 0\n"
     ]
    }
   ],
   "source": [
    "# Assuming 'age' column, we'll identify values that are higher than the 95th percentile\n",
    "# Calculate IQR of the 'age' column\n",
    "Q1 = df['age'].quantile(0.25)\n",
    "Q3 = df['age'].quantile(0.75)\n",
    "IQR = Q3 - Q1\n",
    "\n",
    "# Define the range for outliers\n",
    "lower_bound = Q1 - 1.5*IQR\n",
    "upper_bound = Q3 + 1.5*IQR\n",
    "\n",
    "# Count outliers\n",
    "outlier_age = df[(df['age'] < lower_bound) | (df['age'] > upper_bound)]\n",
    "print(f'Number of outliers in the age column: {len(outlier_age)}')\n"
   ]
  },
  {
   "cell_type": "code",
   "execution_count": 20,
   "id": "89caf425-33e9-43c3-94a2-a8b2f6fb9eaf",
   "metadata": {},
   "outputs": [
    {
     "name": "stdout",
     "output_type": "stream",
     "text": [
      "Number of outliers in the age column: 191\n"
     ]
    }
   ],
   "source": [
    "Q1 = df['education-num'].quantile(0.15)\n",
    "Q3 = df['education-num'].quantile(0.85)\n",
    "IQR = Q3 - Q1\n",
    "\n",
    "# Define the range for outliers\n",
    "lower_bound = Q1 - 1.5*IQR\n",
    "upper_bound = Q3 + 1.5*IQR\n",
    "\n",
    "# Count outliers\n",
    "outliers_education = df[(df['education-num'] < lower_bound) | (df['education-num'] > upper_bound)]\n",
    "print(f'Number of outliers in the age column: {len(outliers_education)}')"
   ]
  },
  {
   "cell_type": "markdown",
   "id": "701252ee-d6d0-4ed5-a2cc-70e2e7f37c5d",
   "metadata": {},
   "source": [
    "Through these steps, a cleaner and more analysis-ready dataset was achieved. The cleaning process was tailored to the specific characteristics and needs of the Adult dataset, and the decisions made during cleaning were grounded in the pursuit of robust and valid analytical results. In subsequent parts of this project, further cleaning steps may be undertaken as necessary, and a more in-depth exploratory data analysis will be conducted."
   ]
  }
 ],
 "metadata": {
  "kernelspec": {
   "display_name": "Python 3 (ipykernel)",
   "language": "python",
   "name": "python3"
  },
  "language_info": {
   "codemirror_mode": {
    "name": "ipython",
    "version": 3
   },
   "file_extension": ".py",
   "mimetype": "text/x-python",
   "name": "python",
   "nbconvert_exporter": "python",
   "pygments_lexer": "ipython3",
   "version": "3.10.8"
  }
 },
 "nbformat": 4,
 "nbformat_minor": 5
}
